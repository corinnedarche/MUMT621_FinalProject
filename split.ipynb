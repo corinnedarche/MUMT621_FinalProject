{
 "cells": [
  {
   "cell_type": "code",
   "execution_count": null,
   "id": "95614348",
   "metadata": {},
   "outputs": [],
   "source": [
    "# SCRIPT: rsplit.ipynb\n",
    "# CREATED BY: Corinne Darche\n",
    "# DESCRIPTION: This script takes the original Gregorian Chant data that I downloaded, and then splits each .wav\n",
    "# file into separate 10-second .wav files\n",
    "\n",
    "# Inspired by code from this stackoverflow thread: https://stackoverflow.com/questions/37999150/how-to-split-a-wav-file-into-multiple-wav-files"
   ]
  },
  {
   "cell_type": "code",
   "execution_count": 1,
   "id": "af23aac3",
   "metadata": {},
   "outputs": [],
   "source": [
    "from pydub import AudioSegment\n",
    "import os"
   ]
  },
  {
   "cell_type": "code",
   "execution_count": 17,
   "id": "26c20910",
   "metadata": {},
   "outputs": [],
   "source": [
    "fileNames = os.listdir(\"/Volumes/CORINNE HARD DRIVE/GregorianChant\")\n",
    "fileNames.pop(0)\n",
    "t = 10000 # in ms\n",
    "\n",
    "for file in fileNames:\n",
    "    path = \"/Volumes/CORINNE HARD DRIVE/GregorianChant/\" + file\n",
    "    audioClip = AudioSegment.from_wav(path)\n",
    "    clips = audioClip[::t]\n",
    "    ind = 1\n",
    "    for clip in clips:\n",
    "        name = file + \"_\" + str(ind) + \".wav\"\n",
    "        exportPath = \"/Volumes/CORINNE HARD DRIVE/chantData/\" + name\n",
    "        export = clip.export(exportPath, format='wav')\n",
    "        ind += 1"
   ]
  }
 ],
 "metadata": {
  "kernelspec": {
   "display_name": "Python 3",
   "language": "python",
   "name": "python3"
  },
  "language_info": {
   "codemirror_mode": {
    "name": "ipython",
    "version": 3
   },
   "file_extension": ".py",
   "mimetype": "text/x-python",
   "name": "python",
   "nbconvert_exporter": "python",
   "pygments_lexer": "ipython3",
   "version": "3.8.8"
  }
 },
 "nbformat": 4,
 "nbformat_minor": 5
}
